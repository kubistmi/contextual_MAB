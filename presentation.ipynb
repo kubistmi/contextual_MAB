{
 "cells": [
  {
   "cell_type": "code",
   "execution_count": 1,
   "metadata": {
    "slideshow": {
     "slide_type": "skip"
    }
   },
   "outputs": [],
   "source": [
    "import numpy as np\n",
    "import pandas as pd\n",
    "\n",
    "import statsmodels.formula.api as smf\n",
    "\n",
    "from IPython.core.display import display, HTML\n",
    "import matplotlib.pyplot as plt"
   ]
  },
  {
   "cell_type": "code",
   "execution_count": 2,
   "metadata": {
    "slideshow": {
     "slide_type": "skip"
    }
   },
   "outputs": [],
   "source": [
    "# trick derived from https://stackoverflow.com/a/57832026\n",
    "def display_dfs(dfs):\n",
    "    \"\"\"\n",
    "    Display tables side by side\n",
    "    \n",
    "    Input:\n",
    "        dfs: List of pandas.DataFrame\n",
    "\n",
    "    Output:\n",
    "        None\n",
    "    \"\"\"\n",
    "    output = \"\"\n",
    "    for df in dfs:\n",
    "        output += df.style.set_table_attributes(\"style='display:inline'\")._repr_html_()\n",
    "        output += 10*\"\\xa0\"\n",
    "    display(HTML(output))"
   ]
  },
  {
   "cell_type": "markdown",
   "metadata": {
    "slideshow": {
     "slide_type": "slide"
    }
   },
   "source": [
    "# Multi-armed bandit\n",
    "- Michal Kubišta\n",
    "- https://github.com/kubistmi/contextual_MAB"
   ]
  },
  {
   "cell_type": "markdown",
   "metadata": {
    "slideshow": {
     "slide_type": "fragment"
    }
   },
   "source": [
    "\n",
    "<img src=\"https://diydilettante.files.wordpress.com/2011/07/the-office-pictures.jpg\">\n",
    "\n",
    "###### credits: Murder (The Office)"
   ]
  },
  {
   "cell_type": "markdown",
   "metadata": {
    "slideshow": {
     "slide_type": "slide"
    }
   },
   "source": [
    "## Multi-armed bandit\n",
    "\n",
    "<img src=\"https://slivkins.com/work/bandits-svc/MAB-2.jpg\">\n",
    "\n",
    "###### credits: Alex Slivkins - Microsoft Research Silicon Valley"
   ]
  },
  {
   "cell_type": "markdown",
   "metadata": {
    "slideshow": {
     "slide_type": "slide"
    }
   },
   "source": [
    "# Table of contents:\n",
    "1. Multi-armed bandit introduction\n",
    "2. Data review\n",
    "3. Code review\n",
    "4. Model results"
   ]
  },
  {
   "cell_type": "markdown",
   "metadata": {
    "slideshow": {
     "slide_type": "slide"
    }
   },
   "source": [
    "## What is MAB?\n",
    "\n",
    "- simplified reinforcement learning problem\n",
    "- set of actions that yield unknown rewards\n",
    "- maximise the total reward\n",
    "- exploration-exploitation tradeoff\n",
    "    - based on policy\n",
    "\n",
    "<img src=\"drawio/bandit.png\">"
   ]
  },
  {
   "cell_type": "markdown",
   "metadata": {
    "slideshow": {
     "slide_type": "slide"
    }
   },
   "source": [
    "## Contextual MAB\n",
    "\n",
    "- get some context before deciding on the action"
   ]
  },
  {
   "cell_type": "markdown",
   "metadata": {
    "slideshow": {
     "slide_type": "fragment"
    }
   },
   "source": [
    "- now we can try to collect data and try to predict the reward\n",
    "    - reward ~ context\n",
    "- each action gets its oracle (ML model)\n",
    "\n",
    "<img src=\"drawio/context.png\">"
   ]
  },
  {
   "cell_type": "markdown",
   "metadata": {
    "slideshow": {
     "slide_type": "slide"
    }
   },
   "source": [
    "### Oracle and policy\n",
    "\n",
    "<img src=\"drawio/oracle_policy.png\">"
   ]
  },
  {
   "cell_type": "markdown",
   "metadata": {
    "slideshow": {
     "slide_type": "slide"
    }
   },
   "source": [
    "### And the data provider\n",
    "\n",
    "<img src=\"drawio/provider.png\">"
   ]
  },
  {
   "cell_type": "markdown",
   "metadata": {
    "slideshow": {
     "slide_type": "slide"
    }
   },
   "source": [
    "# Data review"
   ]
  },
  {
   "cell_type": "code",
   "execution_count": 3,
   "metadata": {
    "slideshow": {
     "slide_type": "-"
    }
   },
   "outputs": [
    {
     "data": {
      "text/html": [
       "<div>\n",
       "<style scoped>\n",
       "    .dataframe tbody tr th:only-of-type {\n",
       "        vertical-align: middle;\n",
       "    }\n",
       "\n",
       "    .dataframe tbody tr th {\n",
       "        vertical-align: top;\n",
       "    }\n",
       "\n",
       "    .dataframe thead th {\n",
       "        text-align: right;\n",
       "    }\n",
       "</style>\n",
       "<table border=\"1\" class=\"dataframe\">\n",
       "  <thead>\n",
       "    <tr style=\"text-align: right;\">\n",
       "      <th></th>\n",
       "      <th>customerid</th>\n",
       "      <th>gender</th>\n",
       "      <th>seniorcitizen</th>\n",
       "      <th>partner</th>\n",
       "      <th>dependents</th>\n",
       "      <th>tenure</th>\n",
       "      <th>phoneservice</th>\n",
       "      <th>multiplelines</th>\n",
       "      <th>internetservice</th>\n",
       "      <th>onlinesecurity</th>\n",
       "      <th>...</th>\n",
       "      <th>deviceprotection</th>\n",
       "      <th>techsupport</th>\n",
       "      <th>streamingtv</th>\n",
       "      <th>streamingmovies</th>\n",
       "      <th>contract</th>\n",
       "      <th>paperlessbilling</th>\n",
       "      <th>paymentmethod</th>\n",
       "      <th>monthlycharges</th>\n",
       "      <th>totalcharges</th>\n",
       "      <th>churn</th>\n",
       "    </tr>\n",
       "  </thead>\n",
       "  <tbody>\n",
       "    <tr>\n",
       "      <th>0</th>\n",
       "      <td>7590-VHVEG</td>\n",
       "      <td>Female</td>\n",
       "      <td>0</td>\n",
       "      <td>Yes</td>\n",
       "      <td>No</td>\n",
       "      <td>1</td>\n",
       "      <td>No</td>\n",
       "      <td>No phone service</td>\n",
       "      <td>DSL</td>\n",
       "      <td>No</td>\n",
       "      <td>...</td>\n",
       "      <td>No</td>\n",
       "      <td>No</td>\n",
       "      <td>No</td>\n",
       "      <td>No</td>\n",
       "      <td>Month-to-month</td>\n",
       "      <td>Yes</td>\n",
       "      <td>Electronic check</td>\n",
       "      <td>29.85</td>\n",
       "      <td>29.85</td>\n",
       "      <td>No</td>\n",
       "    </tr>\n",
       "    <tr>\n",
       "      <th>1</th>\n",
       "      <td>5575-GNVDE</td>\n",
       "      <td>Male</td>\n",
       "      <td>0</td>\n",
       "      <td>No</td>\n",
       "      <td>No</td>\n",
       "      <td>34</td>\n",
       "      <td>Yes</td>\n",
       "      <td>No</td>\n",
       "      <td>DSL</td>\n",
       "      <td>Yes</td>\n",
       "      <td>...</td>\n",
       "      <td>Yes</td>\n",
       "      <td>No</td>\n",
       "      <td>No</td>\n",
       "      <td>No</td>\n",
       "      <td>One year</td>\n",
       "      <td>No</td>\n",
       "      <td>Mailed check</td>\n",
       "      <td>56.95</td>\n",
       "      <td>1889.5</td>\n",
       "      <td>No</td>\n",
       "    </tr>\n",
       "    <tr>\n",
       "      <th>2</th>\n",
       "      <td>3668-QPYBK</td>\n",
       "      <td>Male</td>\n",
       "      <td>0</td>\n",
       "      <td>No</td>\n",
       "      <td>No</td>\n",
       "      <td>2</td>\n",
       "      <td>Yes</td>\n",
       "      <td>No</td>\n",
       "      <td>DSL</td>\n",
       "      <td>Yes</td>\n",
       "      <td>...</td>\n",
       "      <td>No</td>\n",
       "      <td>No</td>\n",
       "      <td>No</td>\n",
       "      <td>No</td>\n",
       "      <td>Month-to-month</td>\n",
       "      <td>Yes</td>\n",
       "      <td>Mailed check</td>\n",
       "      <td>53.85</td>\n",
       "      <td>108.15</td>\n",
       "      <td>Yes</td>\n",
       "    </tr>\n",
       "    <tr>\n",
       "      <th>3</th>\n",
       "      <td>7795-CFOCW</td>\n",
       "      <td>Male</td>\n",
       "      <td>0</td>\n",
       "      <td>No</td>\n",
       "      <td>No</td>\n",
       "      <td>45</td>\n",
       "      <td>No</td>\n",
       "      <td>No phone service</td>\n",
       "      <td>DSL</td>\n",
       "      <td>Yes</td>\n",
       "      <td>...</td>\n",
       "      <td>Yes</td>\n",
       "      <td>Yes</td>\n",
       "      <td>No</td>\n",
       "      <td>No</td>\n",
       "      <td>One year</td>\n",
       "      <td>No</td>\n",
       "      <td>Bank transfer (automatic)</td>\n",
       "      <td>42.30</td>\n",
       "      <td>1840.75</td>\n",
       "      <td>No</td>\n",
       "    </tr>\n",
       "    <tr>\n",
       "      <th>4</th>\n",
       "      <td>9237-HQITU</td>\n",
       "      <td>Female</td>\n",
       "      <td>0</td>\n",
       "      <td>No</td>\n",
       "      <td>No</td>\n",
       "      <td>2</td>\n",
       "      <td>Yes</td>\n",
       "      <td>No</td>\n",
       "      <td>Fiber optic</td>\n",
       "      <td>No</td>\n",
       "      <td>...</td>\n",
       "      <td>No</td>\n",
       "      <td>No</td>\n",
       "      <td>No</td>\n",
       "      <td>No</td>\n",
       "      <td>Month-to-month</td>\n",
       "      <td>Yes</td>\n",
       "      <td>Electronic check</td>\n",
       "      <td>70.70</td>\n",
       "      <td>151.65</td>\n",
       "      <td>Yes</td>\n",
       "    </tr>\n",
       "  </tbody>\n",
       "</table>\n",
       "<p>5 rows × 21 columns</p>\n",
       "</div>"
      ],
      "text/plain": [
       "   customerid  gender  seniorcitizen partner dependents  tenure phoneservice  \\\n",
       "0  7590-VHVEG  Female              0     Yes         No       1           No   \n",
       "1  5575-GNVDE    Male              0      No         No      34          Yes   \n",
       "2  3668-QPYBK    Male              0      No         No       2          Yes   \n",
       "3  7795-CFOCW    Male              0      No         No      45           No   \n",
       "4  9237-HQITU  Female              0      No         No       2          Yes   \n",
       "\n",
       "      multiplelines internetservice onlinesecurity  ... deviceprotection  \\\n",
       "0  No phone service             DSL             No  ...               No   \n",
       "1                No             DSL            Yes  ...              Yes   \n",
       "2                No             DSL            Yes  ...               No   \n",
       "3  No phone service             DSL            Yes  ...              Yes   \n",
       "4                No     Fiber optic             No  ...               No   \n",
       "\n",
       "  techsupport streamingtv streamingmovies        contract paperlessbilling  \\\n",
       "0          No          No              No  Month-to-month              Yes   \n",
       "1          No          No              No        One year               No   \n",
       "2          No          No              No  Month-to-month              Yes   \n",
       "3         Yes          No              No        One year               No   \n",
       "4          No          No              No  Month-to-month              Yes   \n",
       "\n",
       "               paymentmethod monthlycharges  totalcharges churn  \n",
       "0           Electronic check          29.85         29.85    No  \n",
       "1               Mailed check          56.95        1889.5    No  \n",
       "2               Mailed check          53.85        108.15   Yes  \n",
       "3  Bank transfer (automatic)          42.30       1840.75    No  \n",
       "4           Electronic check          70.70        151.65   Yes  \n",
       "\n",
       "[5 rows x 21 columns]"
      ]
     },
     "execution_count": 3,
     "metadata": {},
     "output_type": "execute_result"
    }
   ],
   "source": [
    "# dataset from https://www.kaggle.com/blastchar/telco-customer-churn\n",
    "churn = pd.read_csv(\"data/WA_Fn-UseC_-Telco-Customer-Churn.csv\")\n",
    "churn.rename(str.lower, axis = 'columns', inplace = True)\n",
    "\n",
    "churn.head(5)"
   ]
  },
  {
   "cell_type": "code",
   "execution_count": 4,
   "metadata": {
    "slideshow": {
     "slide_type": "skip"
    }
   },
   "outputs": [
    {
     "data": {
      "text/plain": [
       "totalcharges\n",
       "         11\n",
       "20.2     11\n",
       "19.75     9\n",
       "20.05     8\n",
       "19.9      8\n",
       "dtype: int64"
      ]
     },
     "metadata": {},
     "output_type": "display_data"
    }
   ],
   "source": [
    "display(churn.value_counts('totalcharges').head(5))\n",
    "\n",
    "churn.totalcharges = pd.to_numeric(churn.totalcharges.str.replace(\" \",\"\"))\n",
    "churn.seniorcitizen = np.where(churn.seniorcitizen == 0, \"no\", \"yes\")"
   ]
  },
  {
   "cell_type": "markdown",
   "metadata": {
    "slideshow": {
     "slide_type": "slide"
    }
   },
   "source": [
    "## Numerical variables"
   ]
  },
  {
   "cell_type": "code",
   "execution_count": 5,
   "metadata": {},
   "outputs": [
    {
     "data": {
      "text/html": [
       "<div>\n",
       "<style scoped>\n",
       "    .dataframe tbody tr th:only-of-type {\n",
       "        vertical-align: middle;\n",
       "    }\n",
       "\n",
       "    .dataframe tbody tr th {\n",
       "        vertical-align: top;\n",
       "    }\n",
       "\n",
       "    .dataframe thead th {\n",
       "        text-align: right;\n",
       "    }\n",
       "</style>\n",
       "<table border=\"1\" class=\"dataframe\">\n",
       "  <thead>\n",
       "    <tr style=\"text-align: right;\">\n",
       "      <th></th>\n",
       "      <th>tenure</th>\n",
       "      <th>monthlycharges</th>\n",
       "      <th>totalcharges</th>\n",
       "    </tr>\n",
       "  </thead>\n",
       "  <tbody>\n",
       "    <tr>\n",
       "      <th>count</th>\n",
       "      <td>7043.000000</td>\n",
       "      <td>7043.000000</td>\n",
       "      <td>7032.000000</td>\n",
       "    </tr>\n",
       "    <tr>\n",
       "      <th>mean</th>\n",
       "      <td>32.371149</td>\n",
       "      <td>64.761692</td>\n",
       "      <td>2283.300441</td>\n",
       "    </tr>\n",
       "    <tr>\n",
       "      <th>std</th>\n",
       "      <td>24.559481</td>\n",
       "      <td>30.090047</td>\n",
       "      <td>2266.771362</td>\n",
       "    </tr>\n",
       "    <tr>\n",
       "      <th>min</th>\n",
       "      <td>0.000000</td>\n",
       "      <td>18.250000</td>\n",
       "      <td>18.800000</td>\n",
       "    </tr>\n",
       "    <tr>\n",
       "      <th>25%</th>\n",
       "      <td>9.000000</td>\n",
       "      <td>35.500000</td>\n",
       "      <td>401.450000</td>\n",
       "    </tr>\n",
       "    <tr>\n",
       "      <th>50%</th>\n",
       "      <td>29.000000</td>\n",
       "      <td>70.350000</td>\n",
       "      <td>1397.475000</td>\n",
       "    </tr>\n",
       "    <tr>\n",
       "      <th>75%</th>\n",
       "      <td>55.000000</td>\n",
       "      <td>89.850000</td>\n",
       "      <td>3794.737500</td>\n",
       "    </tr>\n",
       "    <tr>\n",
       "      <th>max</th>\n",
       "      <td>72.000000</td>\n",
       "      <td>118.750000</td>\n",
       "      <td>8684.800000</td>\n",
       "    </tr>\n",
       "  </tbody>\n",
       "</table>\n",
       "</div>"
      ],
      "text/plain": [
       "            tenure  monthlycharges  totalcharges\n",
       "count  7043.000000     7043.000000   7032.000000\n",
       "mean     32.371149       64.761692   2283.300441\n",
       "std      24.559481       30.090047   2266.771362\n",
       "min       0.000000       18.250000     18.800000\n",
       "25%       9.000000       35.500000    401.450000\n",
       "50%      29.000000       70.350000   1397.475000\n",
       "75%      55.000000       89.850000   3794.737500\n",
       "max      72.000000      118.750000   8684.800000"
      ]
     },
     "execution_count": 5,
     "metadata": {},
     "output_type": "execute_result"
    },
    {
     "data": {
      "image/png": "[encoded data removed]",
      "text/plain": [
       "<Figure size 2160x432 with 4 Axes>"
      ]
     },
     "metadata": {
      "needs_background": "light"
     },
     "output_type": "display_data"
    }
   ],
   "source": [
    "churn.hist(figsize = (30,6), layout = (1,4))\n",
    "\n",
    "churn.describe()"
   ]
  },
  {
   "cell_type": "code",
   "execution_count": 6,
   "metadata": {
    "slideshow": {
     "slide_type": "skip"
    }
   },
   "outputs": [],
   "source": [
    "cols_cat = (\n",
    "    churn\n",
    "    .dtypes\n",
    "    .where(churn.dtypes == \"object\")\n",
    "    .dropna()\n",
    "    .index\n",
    "    )\n",
    "\n",
    "cats = [churn[i].value_counts().to_frame() for i in cols_cat if i != \"customerid\"]"
   ]
  },
  {
   "cell_type": "markdown",
   "metadata": {
    "slideshow": {
     "slide_type": "slide"
    }
   },
   "source": [
    "## Categorical variables"
   ]
  },
  {
   "cell_type": "code",
   "execution_count": 7,
   "metadata": {
    "slideshow": {
     "slide_type": "-"
    }
   },
   "outputs": [
    {
     "data": {
      "text/html": [
       "<style  type=\"text/css\" >\n",
       "</style><table id=\"T_b7525_\" style='display:inline'><thead>    <tr>        <th class=\"blank level0\" ></th>        <th class=\"col_heading level0 col0\" >gender</th>    </tr></thead><tbody>\n",
       "                <tr>\n",
       "                        <th id=\"T_b7525_level0_row0\" class=\"row_heading level0 row0\" >Male</th>\n",
       "                        <td id=\"T_b7525_row0_col0\" class=\"data row0 col0\" >3555</td>\n",
       "            </tr>\n",
       "            <tr>\n",
       "                        <th id=\"T_b7525_level0_row1\" class=\"row_heading level0 row1\" >Female</th>\n",
       "                        <td id=\"T_b7525_row1_col0\" class=\"data row1 col0\" >3488</td>\n",
       "            </tr>\n",
       "    </tbody></table>          <style  type=\"text/css\" >\n",
       "</style><table id=\"T_95860_\" style='display:inline'><thead>    <tr>        <th class=\"blank level0\" ></th>        <th class=\"col_heading level0 col0\" >seniorcitizen</th>    </tr></thead><tbody>\n",
       "                <tr>\n",
       "                        <th id=\"T_95860_level0_row0\" class=\"row_heading level0 row0\" >no</th>\n",
       "                        <td id=\"T_95860_row0_col0\" class=\"data row0 col0\" >5901</td>\n",
       "            </tr>\n",
       "            <tr>\n",
       "                        <th id=\"T_95860_level0_row1\" class=\"row_heading level0 row1\" >yes</th>\n",
       "                        <td id=\"T_95860_row1_col0\" class=\"data row1 col0\" >1142</td>\n",
       "            </tr>\n",
       "    </tbody></table>          <style  type=\"text/css\" >\n",
       "</style><table id=\"T_c6a0a_\" style='display:inline'><thead>    <tr>        <th class=\"blank level0\" ></th>        <th class=\"col_heading level0 col0\" >partner</th>    </tr></thead><tbody>\n",
       "                <tr>\n",
       "                        <th id=\"T_c6a0a_level0_row0\" class=\"row_heading level0 row0\" >No</th>\n",
       "                        <td id=\"T_c6a0a_row0_col0\" class=\"data row0 col0\" >3641</td>\n",
       "            </tr>\n",
       "            <tr>\n",
       "                        <th id=\"T_c6a0a_level0_row1\" class=\"row_heading level0 row1\" >Yes</th>\n",
       "                        <td id=\"T_c6a0a_row1_col0\" class=\"data row1 col0\" >3402</td>\n",
       "            </tr>\n",
       "    </tbody></table>          <style  type=\"text/css\" >\n",
       "</style><table id=\"T_90713_\" style='display:inline'><thead>    <tr>        <th class=\"blank level0\" ></th>        <th class=\"col_heading level0 col0\" >dependents</th>    </tr></thead><tbody>\n",
       "                <tr>\n",
       "                        <th id=\"T_90713_level0_row0\" class=\"row_heading level0 row0\" >No</th>\n",
       "                        <td id=\"T_90713_row0_col0\" class=\"data row0 col0\" >4933</td>\n",
       "            </tr>\n",
       "            <tr>\n",
       "                        <th id=\"T_90713_level0_row1\" class=\"row_heading level0 row1\" >Yes</th>\n",
       "                        <td id=\"T_90713_row1_col0\" class=\"data row1 col0\" >2110</td>\n",
       "            </tr>\n",
       "    </tbody></table>          <style  type=\"text/css\" >\n",
       "</style><table id=\"T_eb9f3_\" style='display:inline'><thead>    <tr>        <th class=\"blank level0\" ></th>        <th class=\"col_heading level0 col0\" >phoneservice</th>    </tr></thead><tbody>\n",
       "                <tr>\n",
       "                        <th id=\"T_eb9f3_level0_row0\" class=\"row_heading level0 row0\" >Yes</th>\n",
       "                        <td id=\"T_eb9f3_row0_col0\" class=\"data row0 col0\" >6361</td>\n",
       "            </tr>\n",
       "            <tr>\n",
       "                        <th id=\"T_eb9f3_level0_row1\" class=\"row_heading level0 row1\" >No</th>\n",
       "                        <td id=\"T_eb9f3_row1_col0\" class=\"data row1 col0\" >682</td>\n",
       "            </tr>\n",
       "    </tbody></table>          <style  type=\"text/css\" >\n",
       "</style><table id=\"T_c8f71_\" style='display:inline'><thead>    <tr>        <th class=\"blank level0\" ></th>        <th class=\"col_heading level0 col0\" >multiplelines</th>    </tr></thead><tbody>\n",
       "                <tr>\n",
       "                        <th id=\"T_c8f71_level0_row0\" class=\"row_heading level0 row0\" >No</th>\n",
       "                        <td id=\"T_c8f71_row0_col0\" class=\"data row0 col0\" >3390</td>\n",
       "            </tr>\n",
       "            <tr>\n",
       "                        <th id=\"T_c8f71_level0_row1\" class=\"row_heading level0 row1\" >Yes</th>\n",
       "                        <td id=\"T_c8f71_row1_col0\" class=\"data row1 col0\" >2971</td>\n",
       "            </tr>\n",
       "            <tr>\n",
       "                        <th id=\"T_c8f71_level0_row2\" class=\"row_heading level0 row2\" >No phone service</th>\n",
       "                        <td id=\"T_c8f71_row2_col0\" class=\"data row2 col0\" >682</td>\n",
       "            </tr>\n",
       "    </tbody></table>          <style  type=\"text/css\" >\n",
       "</style><table id=\"T_dbc96_\" style='display:inline'><thead>    <tr>        <th class=\"blank level0\" ></th>        <th class=\"col_heading level0 col0\" >internetservice</th>    </tr></thead><tbody>\n",
       "                <tr>\n",
       "                        <th id=\"T_dbc96_level0_row0\" class=\"row_heading level0 row0\" >Fiber optic</th>\n",
       "                        <td id=\"T_dbc96_row0_col0\" class=\"data row0 col0\" >3096</td>\n",
       "            </tr>\n",
       "            <tr>\n",
       "                        <th id=\"T_dbc96_level0_row1\" class=\"row_heading level0 row1\" >DSL</th>\n",
       "                        <td id=\"T_dbc96_row1_col0\" class=\"data row1 col0\" >2421</td>\n",
       "            </tr>\n",
       "            <tr>\n",
       "                        <th id=\"T_dbc96_level0_row2\" class=\"row_heading level0 row2\" >No</th>\n",
       "                        <td id=\"T_dbc96_row2_col0\" class=\"data row2 col0\" >1526</td>\n",
       "            </tr>\n",
       "    </tbody></table>          <style  type=\"text/css\" >\n",
       "</style><table id=\"T_d63d4_\" style='display:inline'><thead>    <tr>        <th class=\"blank level0\" ></th>        <th class=\"col_heading level0 col0\" >onlinesecurity</th>    </tr></thead><tbody>\n",
       "                <tr>\n",
       "                        <th id=\"T_d63d4_level0_row0\" class=\"row_heading level0 row0\" >No</th>\n",
       "                        <td id=\"T_d63d4_row0_col0\" class=\"data row0 col0\" >3498</td>\n",
       "            </tr>\n",
       "            <tr>\n",
       "                        <th id=\"T_d63d4_level0_row1\" class=\"row_heading level0 row1\" >Yes</th>\n",
       "                        <td id=\"T_d63d4_row1_col0\" class=\"data row1 col0\" >2019</td>\n",
       "            </tr>\n",
       "            <tr>\n",
       "                        <th id=\"T_d63d4_level0_row2\" class=\"row_heading level0 row2\" >No internet service</th>\n",
       "                        <td id=\"T_d63d4_row2_col0\" class=\"data row2 col0\" >1526</td>\n",
       "            </tr>\n",
       "    </tbody></table>          <style  type=\"text/css\" >\n",
       "</style><table id=\"T_2e6ec_\" style='display:inline'><thead>    <tr>        <th class=\"blank level0\" ></th>        <th class=\"col_heading level0 col0\" >onlinebackup</th>    </tr></thead><tbody>\n",
       "                <tr>\n",
       "                        <th id=\"T_2e6ec_level0_row0\" class=\"row_heading level0 row0\" >No</th>\n",
       "                        <td id=\"T_2e6ec_row0_col0\" class=\"data row0 col0\" >3088</td>\n",
       "            </tr>\n",
       "            <tr>\n",
       "                        <th id=\"T_2e6ec_level0_row1\" class=\"row_heading level0 row1\" >Yes</th>\n",
       "                        <td id=\"T_2e6ec_row1_col0\" class=\"data row1 col0\" >2429</td>\n",
       "            </tr>\n",
       "            <tr>\n",
       "                        <th id=\"T_2e6ec_level0_row2\" class=\"row_heading level0 row2\" >No internet service</th>\n",
       "                        <td id=\"T_2e6ec_row2_col0\" class=\"data row2 col0\" >1526</td>\n",
       "            </tr>\n",
       "    </tbody></table>          <style  type=\"text/css\" >\n",
       "</style><table id=\"T_75d77_\" style='display:inline'><thead>    <tr>        <th class=\"blank level0\" ></th>        <th class=\"col_heading level0 col0\" >deviceprotection</th>    </tr></thead><tbody>\n",
       "                <tr>\n",
       "                        <th id=\"T_75d77_level0_row0\" class=\"row_heading level0 row0\" >No</th>\n",
       "                        <td id=\"T_75d77_row0_col0\" class=\"data row0 col0\" >3095</td>\n",
       "            </tr>\n",
       "            <tr>\n",
       "                        <th id=\"T_75d77_level0_row1\" class=\"row_heading level0 row1\" >Yes</th>\n",
       "                        <td id=\"T_75d77_row1_col0\" class=\"data row1 col0\" >2422</td>\n",
       "            </tr>\n",
       "            <tr>\n",
       "                        <th id=\"T_75d77_level0_row2\" class=\"row_heading level0 row2\" >No internet service</th>\n",
       "                        <td id=\"T_75d77_row2_col0\" class=\"data row2 col0\" >1526</td>\n",
       "            </tr>\n",
       "    </tbody></table>          <style  type=\"text/css\" >\n",
       "</style><table id=\"T_e5837_\" style='display:inline'><thead>    <tr>        <th class=\"blank level0\" ></th>        <th class=\"col_heading level0 col0\" >techsupport</th>    </tr></thead><tbody>\n",
       "                <tr>\n",
       "                        <th id=\"T_e5837_level0_row0\" class=\"row_heading level0 row0\" >No</th>\n",
       "                        <td id=\"T_e5837_row0_col0\" class=\"data row0 col0\" >3473</td>\n",
       "            </tr>\n",
       "            <tr>\n",
       "                        <th id=\"T_e5837_level0_row1\" class=\"row_heading level0 row1\" >Yes</th>\n",
       "                        <td id=\"T_e5837_row1_col0\" class=\"data row1 col0\" >2044</td>\n",
       "            </tr>\n",
       "            <tr>\n",
       "                        <th id=\"T_e5837_level0_row2\" class=\"row_heading level0 row2\" >No internet service</th>\n",
       "                        <td id=\"T_e5837_row2_col0\" class=\"data row2 col0\" >1526</td>\n",
       "            </tr>\n",
       "    </tbody></table>          <style  type=\"text/css\" >\n",
       "</style><table id=\"T_0fa66_\" style='display:inline'><thead>    <tr>        <th class=\"blank level0\" ></th>        <th class=\"col_heading level0 col0\" >streamingtv</th>    </tr></thead><tbody>\n",
       "                <tr>\n",
       "                        <th id=\"T_0fa66_level0_row0\" class=\"row_heading level0 row0\" >No</th>\n",
       "                        <td id=\"T_0fa66_row0_col0\" class=\"data row0 col0\" >2810</td>\n",
       "            </tr>\n",
       "            <tr>\n",
       "                        <th id=\"T_0fa66_level0_row1\" class=\"row_heading level0 row1\" >Yes</th>\n",
       "                        <td id=\"T_0fa66_row1_col0\" class=\"data row1 col0\" >2707</td>\n",
       "            </tr>\n",
       "            <tr>\n",
       "                        <th id=\"T_0fa66_level0_row2\" class=\"row_heading level0 row2\" >No internet service</th>\n",
       "                        <td id=\"T_0fa66_row2_col0\" class=\"data row2 col0\" >1526</td>\n",
       "            </tr>\n",
       "    </tbody></table>          <style  type=\"text/css\" >\n",
       "</style><table id=\"T_cda44_\" style='display:inline'><thead>    <tr>        <th class=\"blank level0\" ></th>        <th class=\"col_heading level0 col0\" >streamingmovies</th>    </tr></thead><tbody>\n",
       "                <tr>\n",
       "                        <th id=\"T_cda44_level0_row0\" class=\"row_heading level0 row0\" >No</th>\n",
       "                        <td id=\"T_cda44_row0_col0\" class=\"data row0 col0\" >2785</td>\n",
       "            </tr>\n",
       "            <tr>\n",
       "                        <th id=\"T_cda44_level0_row1\" class=\"row_heading level0 row1\" >Yes</th>\n",
       "                        <td id=\"T_cda44_row1_col0\" class=\"data row1 col0\" >2732</td>\n",
       "            </tr>\n",
       "            <tr>\n",
       "                        <th id=\"T_cda44_level0_row2\" class=\"row_heading level0 row2\" >No internet service</th>\n",
       "                        <td id=\"T_cda44_row2_col0\" class=\"data row2 col0\" >1526</td>\n",
       "            </tr>\n",
       "    </tbody></table>          <style  type=\"text/css\" >\n",
       "</style><table id=\"T_b4a9a_\" style='display:inline'><thead>    <tr>        <th class=\"blank level0\" ></th>        <th class=\"col_heading level0 col0\" >contract</th>    </tr></thead><tbody>\n",
       "                <tr>\n",
       "                        <th id=\"T_b4a9a_level0_row0\" class=\"row_heading level0 row0\" >Month-to-month</th>\n",
       "                        <td id=\"T_b4a9a_row0_col0\" class=\"data row0 col0\" >3875</td>\n",
       "            </tr>\n",
       "            <tr>\n",
       "                        <th id=\"T_b4a9a_level0_row1\" class=\"row_heading level0 row1\" >Two year</th>\n",
       "                        <td id=\"T_b4a9a_row1_col0\" class=\"data row1 col0\" >1695</td>\n",
       "            </tr>\n",
       "            <tr>\n",
       "                        <th id=\"T_b4a9a_level0_row2\" class=\"row_heading level0 row2\" >One year</th>\n",
       "                        <td id=\"T_b4a9a_row2_col0\" class=\"data row2 col0\" >1473</td>\n",
       "            </tr>\n",
       "    </tbody></table>          <style  type=\"text/css\" >\n",
       "</style><table id=\"T_6de37_\" style='display:inline'><thead>    <tr>        <th class=\"blank level0\" ></th>        <th class=\"col_heading level0 col0\" >paperlessbilling</th>    </tr></thead><tbody>\n",
       "                <tr>\n",
       "                        <th id=\"T_6de37_level0_row0\" class=\"row_heading level0 row0\" >Yes</th>\n",
       "                        <td id=\"T_6de37_row0_col0\" class=\"data row0 col0\" >4171</td>\n",
       "            </tr>\n",
       "            <tr>\n",
       "                        <th id=\"T_6de37_level0_row1\" class=\"row_heading level0 row1\" >No</th>\n",
       "                        <td id=\"T_6de37_row1_col0\" class=\"data row1 col0\" >2872</td>\n",
       "            </tr>\n",
       "    </tbody></table>          <style  type=\"text/css\" >\n",
       "</style><table id=\"T_d9a94_\" style='display:inline'><thead>    <tr>        <th class=\"blank level0\" ></th>        <th class=\"col_heading level0 col0\" >paymentmethod</th>    </tr></thead><tbody>\n",
       "                <tr>\n",
       "                        <th id=\"T_d9a94_level0_row0\" class=\"row_heading level0 row0\" >Electronic check</th>\n",
       "                        <td id=\"T_d9a94_row0_col0\" class=\"data row0 col0\" >2365</td>\n",
       "            </tr>\n",
       "            <tr>\n",
       "                        <th id=\"T_d9a94_level0_row1\" class=\"row_heading level0 row1\" >Mailed check</th>\n",
       "                        <td id=\"T_d9a94_row1_col0\" class=\"data row1 col0\" >1612</td>\n",
       "            </tr>\n",
       "            <tr>\n",
       "                        <th id=\"T_d9a94_level0_row2\" class=\"row_heading level0 row2\" >Bank transfer (automatic)</th>\n",
       "                        <td id=\"T_d9a94_row2_col0\" class=\"data row2 col0\" >1544</td>\n",
       "            </tr>\n",
       "            <tr>\n",
       "                        <th id=\"T_d9a94_level0_row3\" class=\"row_heading level0 row3\" >Credit card (automatic)</th>\n",
       "                        <td id=\"T_d9a94_row3_col0\" class=\"data row3 col0\" >1522</td>\n",
       "            </tr>\n",
       "    </tbody></table>          <style  type=\"text/css\" >\n",
       "</style><table id=\"T_0a91c_\" style='display:inline'><thead>    <tr>        <th class=\"blank level0\" ></th>        <th class=\"col_heading level0 col0\" >churn</th>    </tr></thead><tbody>\n",
       "                <tr>\n",
       "                        <th id=\"T_0a91c_level0_row0\" class=\"row_heading level0 row0\" >No</th>\n",
       "                        <td id=\"T_0a91c_row0_col0\" class=\"data row0 col0\" >5174</td>\n",
       "            </tr>\n",
       "            <tr>\n",
       "                        <th id=\"T_0a91c_level0_row1\" class=\"row_heading level0 row1\" >Yes</th>\n",
       "                        <td id=\"T_0a91c_row1_col0\" class=\"data row1 col0\" >1869</td>\n",
       "            </tr>\n",
       "    </tbody></table>          "
      ],
      "text/plain": [
       "<IPython.core.display.HTML object>"
      ]
     },
     "metadata": {},
     "output_type": "display_data"
    }
   ],
   "source": [
    "display_dfs(cats)"
   ]
  },
  {
   "cell_type": "markdown",
   "metadata": {
    "slideshow": {
     "slide_type": "slide"
    }
   },
   "source": [
    "## NA handling"
   ]
  },
  {
   "cell_type": "code",
   "execution_count": 8,
   "metadata": {
    "slideshow": {
     "slide_type": "-"
    }
   },
   "outputs": [
    {
     "data": {
      "text/plain": [
       "totalcharges    11\n",
       "customerid       0\n",
       "dtype: int64"
      ]
     },
     "execution_count": 8,
     "metadata": {},
     "output_type": "execute_result"
    }
   ],
   "source": [
    "(\n",
    "    churn\n",
    "    .isna()\n",
    "    .apply(sum)\n",
    "    .sort_values(ascending = False)\n",
    "    .head(2)\n",
    ")"
   ]
  },
  {
   "cell_type": "code",
   "execution_count": 9,
   "metadata": {
    "slideshow": {
     "slide_type": "slide"
    }
   },
   "outputs": [
    {
     "data": {
      "text/html": [
       "<div>\n",
       "<style scoped>\n",
       "    .dataframe tbody tr th:only-of-type {\n",
       "        vertical-align: middle;\n",
       "    }\n",
       "\n",
       "    .dataframe tbody tr th {\n",
       "        vertical-align: top;\n",
       "    }\n",
       "\n",
       "    .dataframe thead th {\n",
       "        text-align: right;\n",
       "    }\n",
       "</style>\n",
       "<table border=\"1\" class=\"dataframe\">\n",
       "  <thead>\n",
       "    <tr style=\"text-align: right;\">\n",
       "      <th></th>\n",
       "      <th>customerid</th>\n",
       "      <th>gender</th>\n",
       "      <th>seniorcitizen</th>\n",
       "      <th>partner</th>\n",
       "      <th>dependents</th>\n",
       "      <th>tenure</th>\n",
       "      <th>phoneservice</th>\n",
       "      <th>multiplelines</th>\n",
       "      <th>internetservice</th>\n",
       "      <th>onlinesecurity</th>\n",
       "      <th>...</th>\n",
       "      <th>deviceprotection</th>\n",
       "      <th>techsupport</th>\n",
       "      <th>streamingtv</th>\n",
       "      <th>streamingmovies</th>\n",
       "      <th>contract</th>\n",
       "      <th>paperlessbilling</th>\n",
       "      <th>paymentmethod</th>\n",
       "      <th>monthlycharges</th>\n",
       "      <th>totalcharges</th>\n",
       "      <th>churn</th>\n",
       "    </tr>\n",
       "  </thead>\n",
       "  <tbody>\n",
       "    <tr>\n",
       "      <th>488</th>\n",
       "      <td>4472-LVYGI</td>\n",
       "      <td>Female</td>\n",
       "      <td>no</td>\n",
       "      <td>Yes</td>\n",
       "      <td>Yes</td>\n",
       "      <td>0</td>\n",
       "      <td>No</td>\n",
       "      <td>No phone service</td>\n",
       "      <td>DSL</td>\n",
       "      <td>Yes</td>\n",
       "      <td>...</td>\n",
       "      <td>Yes</td>\n",
       "      <td>Yes</td>\n",
       "      <td>Yes</td>\n",
       "      <td>No</td>\n",
       "      <td>Two year</td>\n",
       "      <td>Yes</td>\n",
       "      <td>Bank transfer (automatic)</td>\n",
       "      <td>52.55</td>\n",
       "      <td>NaN</td>\n",
       "      <td>No</td>\n",
       "    </tr>\n",
       "    <tr>\n",
       "      <th>753</th>\n",
       "      <td>3115-CZMZD</td>\n",
       "      <td>Male</td>\n",
       "      <td>no</td>\n",
       "      <td>No</td>\n",
       "      <td>Yes</td>\n",
       "      <td>0</td>\n",
       "      <td>Yes</td>\n",
       "      <td>No</td>\n",
       "      <td>No</td>\n",
       "      <td>No internet service</td>\n",
       "      <td>...</td>\n",
       "      <td>No internet service</td>\n",
       "      <td>No internet service</td>\n",
       "      <td>No internet service</td>\n",
       "      <td>No internet service</td>\n",
       "      <td>Two year</td>\n",
       "      <td>No</td>\n",
       "      <td>Mailed check</td>\n",
       "      <td>20.25</td>\n",
       "      <td>NaN</td>\n",
       "      <td>No</td>\n",
       "    </tr>\n",
       "    <tr>\n",
       "      <th>936</th>\n",
       "      <td>5709-LVOEQ</td>\n",
       "      <td>Female</td>\n",
       "      <td>no</td>\n",
       "      <td>Yes</td>\n",
       "      <td>Yes</td>\n",
       "      <td>0</td>\n",
       "      <td>Yes</td>\n",
       "      <td>No</td>\n",
       "      <td>DSL</td>\n",
       "      <td>Yes</td>\n",
       "      <td>...</td>\n",
       "      <td>Yes</td>\n",
       "      <td>No</td>\n",
       "      <td>Yes</td>\n",
       "      <td>Yes</td>\n",
       "      <td>Two year</td>\n",
       "      <td>No</td>\n",
       "      <td>Mailed check</td>\n",
       "      <td>80.85</td>\n",
       "      <td>NaN</td>\n",
       "      <td>No</td>\n",
       "    </tr>\n",
       "    <tr>\n",
       "      <th>1082</th>\n",
       "      <td>4367-NUYAO</td>\n",
       "      <td>Male</td>\n",
       "      <td>no</td>\n",
       "      <td>Yes</td>\n",
       "      <td>Yes</td>\n",
       "      <td>0</td>\n",
       "      <td>Yes</td>\n",
       "      <td>Yes</td>\n",
       "      <td>No</td>\n",
       "      <td>No internet service</td>\n",
       "      <td>...</td>\n",
       "      <td>No internet service</td>\n",
       "      <td>No internet service</td>\n",
       "      <td>No internet service</td>\n",
       "      <td>No internet service</td>\n",
       "      <td>Two year</td>\n",
       "      <td>No</td>\n",
       "      <td>Mailed check</td>\n",
       "      <td>25.75</td>\n",
       "      <td>NaN</td>\n",
       "      <td>No</td>\n",
       "    </tr>\n",
       "    <tr>\n",
       "      <th>1340</th>\n",
       "      <td>1371-DWPAZ</td>\n",
       "      <td>Female</td>\n",
       "      <td>no</td>\n",
       "      <td>Yes</td>\n",
       "      <td>Yes</td>\n",
       "      <td>0</td>\n",
       "      <td>No</td>\n",
       "      <td>No phone service</td>\n",
       "      <td>DSL</td>\n",
       "      <td>Yes</td>\n",
       "      <td>...</td>\n",
       "      <td>Yes</td>\n",
       "      <td>Yes</td>\n",
       "      <td>Yes</td>\n",
       "      <td>No</td>\n",
       "      <td>Two year</td>\n",
       "      <td>No</td>\n",
       "      <td>Credit card (automatic)</td>\n",
       "      <td>56.05</td>\n",
       "      <td>NaN</td>\n",
       "      <td>No</td>\n",
       "    </tr>\n",
       "    <tr>\n",
       "      <th>3331</th>\n",
       "      <td>7644-OMVMY</td>\n",
       "      <td>Male</td>\n",
       "      <td>no</td>\n",
       "      <td>Yes</td>\n",
       "      <td>Yes</td>\n",
       "      <td>0</td>\n",
       "      <td>Yes</td>\n",
       "      <td>No</td>\n",
       "      <td>No</td>\n",
       "      <td>No internet service</td>\n",
       "      <td>...</td>\n",
       "      <td>No internet service</td>\n",
       "      <td>No internet service</td>\n",
       "      <td>No internet service</td>\n",
       "      <td>No internet service</td>\n",
       "      <td>Two year</td>\n",
       "      <td>No</td>\n",
       "      <td>Mailed check</td>\n",
       "      <td>19.85</td>\n",
       "      <td>NaN</td>\n",
       "      <td>No</td>\n",
       "    </tr>\n",
       "    <tr>\n",
       "      <th>3826</th>\n",
       "      <td>3213-VVOLG</td>\n",
       "      <td>Male</td>\n",
       "      <td>no</td>\n",
       "      <td>Yes</td>\n",
       "      <td>Yes</td>\n",
       "      <td>0</td>\n",
       "      <td>Yes</td>\n",
       "      <td>Yes</td>\n",
       "      <td>No</td>\n",
       "      <td>No internet service</td>\n",
       "      <td>...</td>\n",
       "      <td>No internet service</td>\n",
       "      <td>No internet service</td>\n",
       "      <td>No internet service</td>\n",
       "      <td>No internet service</td>\n",
       "      <td>Two year</td>\n",
       "      <td>No</td>\n",
       "      <td>Mailed check</td>\n",
       "      <td>25.35</td>\n",
       "      <td>NaN</td>\n",
       "      <td>No</td>\n",
       "    </tr>\n",
       "    <tr>\n",
       "      <th>4380</th>\n",
       "      <td>2520-SGTTA</td>\n",
       "      <td>Female</td>\n",
       "      <td>no</td>\n",
       "      <td>Yes</td>\n",
       "      <td>Yes</td>\n",
       "      <td>0</td>\n",
       "      <td>Yes</td>\n",
       "      <td>No</td>\n",
       "      <td>No</td>\n",
       "      <td>No internet service</td>\n",
       "      <td>...</td>\n",
       "      <td>No internet service</td>\n",
       "      <td>No internet service</td>\n",
       "      <td>No internet service</td>\n",
       "      <td>No internet service</td>\n",
       "      <td>Two year</td>\n",
       "      <td>No</td>\n",
       "      <td>Mailed check</td>\n",
       "      <td>20.00</td>\n",
       "      <td>NaN</td>\n",
       "      <td>No</td>\n",
       "    </tr>\n",
       "    <tr>\n",
       "      <th>5218</th>\n",
       "      <td>2923-ARZLG</td>\n",
       "      <td>Male</td>\n",
       "      <td>no</td>\n",
       "      <td>Yes</td>\n",
       "      <td>Yes</td>\n",
       "      <td>0</td>\n",
       "      <td>Yes</td>\n",
       "      <td>No</td>\n",
       "      <td>No</td>\n",
       "      <td>No internet service</td>\n",
       "      <td>...</td>\n",
       "      <td>No internet service</td>\n",
       "      <td>No internet service</td>\n",
       "      <td>No internet service</td>\n",
       "      <td>No internet service</td>\n",
       "      <td>One year</td>\n",
       "      <td>Yes</td>\n",
       "      <td>Mailed check</td>\n",
       "      <td>19.70</td>\n",
       "      <td>NaN</td>\n",
       "      <td>No</td>\n",
       "    </tr>\n",
       "    <tr>\n",
       "      <th>6670</th>\n",
       "      <td>4075-WKNIU</td>\n",
       "      <td>Female</td>\n",
       "      <td>no</td>\n",
       "      <td>Yes</td>\n",
       "      <td>Yes</td>\n",
       "      <td>0</td>\n",
       "      <td>Yes</td>\n",
       "      <td>Yes</td>\n",
       "      <td>DSL</td>\n",
       "      <td>No</td>\n",
       "      <td>...</td>\n",
       "      <td>Yes</td>\n",
       "      <td>Yes</td>\n",
       "      <td>Yes</td>\n",
       "      <td>No</td>\n",
       "      <td>Two year</td>\n",
       "      <td>No</td>\n",
       "      <td>Mailed check</td>\n",
       "      <td>73.35</td>\n",
       "      <td>NaN</td>\n",
       "      <td>No</td>\n",
       "    </tr>\n",
       "    <tr>\n",
       "      <th>6754</th>\n",
       "      <td>2775-SEFEE</td>\n",
       "      <td>Male</td>\n",
       "      <td>no</td>\n",
       "      <td>No</td>\n",
       "      <td>Yes</td>\n",
       "      <td>0</td>\n",
       "      <td>Yes</td>\n",
       "      <td>Yes</td>\n",
       "      <td>DSL</td>\n",
       "      <td>Yes</td>\n",
       "      <td>...</td>\n",
       "      <td>No</td>\n",
       "      <td>Yes</td>\n",
       "      <td>No</td>\n",
       "      <td>No</td>\n",
       "      <td>Two year</td>\n",
       "      <td>Yes</td>\n",
       "      <td>Bank transfer (automatic)</td>\n",
       "      <td>61.90</td>\n",
       "      <td>NaN</td>\n",
       "      <td>No</td>\n",
       "    </tr>\n",
       "  </tbody>\n",
       "</table>\n",
       "<p>11 rows × 21 columns</p>\n",
       "</div>"
      ],
      "text/plain": [
       "      customerid  gender seniorcitizen partner dependents  tenure  \\\n",
       "488   4472-LVYGI  Female            no     Yes        Yes       0   \n",
       "753   3115-CZMZD    Male            no      No        Yes       0   \n",
       "936   5709-LVOEQ  Female            no     Yes        Yes       0   \n",
       "1082  4367-NUYAO    Male            no     Yes        Yes       0   \n",
       "1340  1371-DWPAZ  Female            no     Yes        Yes       0   \n",
       "3331  7644-OMVMY    Male            no     Yes        Yes       0   \n",
       "3826  3213-VVOLG    Male            no     Yes        Yes       0   \n",
       "4380  2520-SGTTA  Female            no     Yes        Yes       0   \n",
       "5218  2923-ARZLG    Male            no     Yes        Yes       0   \n",
       "6670  4075-WKNIU  Female            no     Yes        Yes       0   \n",
       "6754  2775-SEFEE    Male            no      No        Yes       0   \n",
       "\n",
       "     phoneservice     multiplelines internetservice       onlinesecurity  ...  \\\n",
       "488            No  No phone service             DSL                  Yes  ...   \n",
       "753           Yes                No              No  No internet service  ...   \n",
       "936           Yes                No             DSL                  Yes  ...   \n",
       "1082          Yes               Yes              No  No internet service  ...   \n",
       "1340           No  No phone service             DSL                  Yes  ...   \n",
       "3331          Yes                No              No  No internet service  ...   \n",
       "3826          Yes               Yes              No  No internet service  ...   \n",
       "4380          Yes                No              No  No internet service  ...   \n",
       "5218          Yes                No              No  No internet service  ...   \n",
       "6670          Yes               Yes             DSL                   No  ...   \n",
       "6754          Yes               Yes             DSL                  Yes  ...   \n",
       "\n",
       "         deviceprotection          techsupport          streamingtv  \\\n",
       "488                   Yes                  Yes                  Yes   \n",
       "753   No internet service  No internet service  No internet service   \n",
       "936                   Yes                   No                  Yes   \n",
       "1082  No internet service  No internet service  No internet service   \n",
       "1340                  Yes                  Yes                  Yes   \n",
       "3331  No internet service  No internet service  No internet service   \n",
       "3826  No internet service  No internet service  No internet service   \n",
       "4380  No internet service  No internet service  No internet service   \n",
       "5218  No internet service  No internet service  No internet service   \n",
       "6670                  Yes                  Yes                  Yes   \n",
       "6754                   No                  Yes                   No   \n",
       "\n",
       "          streamingmovies  contract paperlessbilling  \\\n",
       "488                    No  Two year              Yes   \n",
       "753   No internet service  Two year               No   \n",
       "936                   Yes  Two year               No   \n",
       "1082  No internet service  Two year               No   \n",
       "1340                   No  Two year               No   \n",
       "3331  No internet service  Two year               No   \n",
       "3826  No internet service  Two year               No   \n",
       "4380  No internet service  Two year               No   \n",
       "5218  No internet service  One year              Yes   \n",
       "6670                   No  Two year               No   \n",
       "6754                   No  Two year              Yes   \n",
       "\n",
       "                  paymentmethod monthlycharges  totalcharges  churn  \n",
       "488   Bank transfer (automatic)          52.55           NaN     No  \n",
       "753                Mailed check          20.25           NaN     No  \n",
       "936                Mailed check          80.85           NaN     No  \n",
       "1082               Mailed check          25.75           NaN     No  \n",
       "1340    Credit card (automatic)          56.05           NaN     No  \n",
       "3331               Mailed check          19.85           NaN     No  \n",
       "3826               Mailed check          25.35           NaN     No  \n",
       "4380               Mailed check          20.00           NaN     No  \n",
       "5218               Mailed check          19.70           NaN     No  \n",
       "6670               Mailed check          73.35           NaN     No  \n",
       "6754  Bank transfer (automatic)          61.90           NaN     No  \n",
       "\n",
       "[11 rows x 21 columns]"
      ]
     },
     "execution_count": 9,
     "metadata": {},
     "output_type": "execute_result"
    }
   ],
   "source": [
    "churn.loc[churn.totalcharges.isna()]"
   ]
  },
  {
   "cell_type": "markdown",
   "metadata": {
    "slideshow": {
     "slide_type": "slide"
    }
   },
   "source": [
    "## Check the hypothesis"
   ]
  },
  {
   "cell_type": "code",
   "execution_count": 10,
   "metadata": {},
   "outputs": [
    {
     "data": {
      "text/html": [
       "<table class=\"simpletable\">\n",
       "<caption>OLS Regression Results</caption>\n",
       "<tr>\n",
       "  <th>Dep. Variable:</th>      <td>totalcharges</td>   <th>  R-squared:         </th> <td>   0.999</td> \n",
       "</tr>\n",
       "<tr>\n",
       "  <th>Model:</th>                   <td>OLS</td>       <th>  Adj. R-squared:    </th> <td>   0.999</td> \n",
       "</tr>\n",
       "<tr>\n",
       "  <th>Method:</th>             <td>Least Squares</td>  <th>  F-statistic:       </th> <td>7.981e+06</td>\n",
       "</tr>\n",
       "<tr>\n",
       "  <th>Date:</th>             <td>Mon, 28 Jun 2021</td> <th>  Prob (F-statistic):</th>  <td>  0.00</td>  \n",
       "</tr>\n",
       "<tr>\n",
       "  <th>Time:</th>                 <td>17:25:31</td>     <th>  Log-Likelihood:    </th> <td> -39571.</td> \n",
       "</tr>\n",
       "<tr>\n",
       "  <th>No. Observations:</th>      <td>  7032</td>      <th>  AIC:               </th> <td>7.915e+04</td>\n",
       "</tr>\n",
       "<tr>\n",
       "  <th>Df Residuals:</th>          <td>  7030</td>      <th>  BIC:               </th> <td>7.916e+04</td>\n",
       "</tr>\n",
       "<tr>\n",
       "  <th>Df Model:</th>              <td>     1</td>      <th>                     </th>     <td> </td>    \n",
       "</tr>\n",
       "<tr>\n",
       "  <th>Covariance Type:</th>      <td>nonrobust</td>    <th>                     </th>     <td> </td>    \n",
       "</tr>\n",
       "</table>\n",
       "<table class=\"simpletable\">\n",
       "<tr>\n",
       "            <td></td>               <th>coef</th>     <th>std err</th>      <th>t</th>      <th>P>|t|</th>  <th>[0.025</th>    <th>0.975]</th>  \n",
       "</tr>\n",
       "<tr>\n",
       "  <th>Intercept</th>             <td>   -0.9259</td> <td>    1.139</td> <td>   -0.813</td> <td> 0.416</td> <td>   -3.158</td> <td>    1.307</td>\n",
       "</tr>\n",
       "<tr>\n",
       "  <th>monthlycharges:tenure</th> <td>    1.0005</td> <td>    0.000</td> <td> 2825.026</td> <td> 0.000</td> <td>    1.000</td> <td>    1.001</td>\n",
       "</tr>\n",
       "</table>\n",
       "<table class=\"simpletable\">\n",
       "<tr>\n",
       "  <th>Omnibus:</th>       <td>536.457</td> <th>  Durbin-Watson:     </th> <td>   2.055</td>\n",
       "</tr>\n",
       "<tr>\n",
       "  <th>Prob(Omnibus):</th> <td> 0.000</td>  <th>  Jarque-Bera (JB):  </th> <td>3044.087</td>\n",
       "</tr>\n",
       "<tr>\n",
       "  <th>Skew:</th>          <td>-0.034</td>  <th>  Prob(JB):          </th> <td>    0.00</td>\n",
       "</tr>\n",
       "<tr>\n",
       "  <th>Kurtosis:</th>      <td> 6.223</td>  <th>  Cond. No.          </th> <td>4.57e+03</td>\n",
       "</tr>\n",
       "</table><br/><br/>"
      ],
      "text/plain": [
       "<class 'statsmodels.iolib.summary.Summary'>\n",
       "\"\"\"\n",
       "                            OLS Regression Results                            \n",
       "==============================================================================\n",
       "Dep. Variable:           totalcharges   R-squared:                       0.999\n",
       "Model:                            OLS   Adj. R-squared:                  0.999\n",
       "Method:                 Least Squares   F-statistic:                 7.981e+06\n",
       "Date:                Mon, 28 Jun 2021   Prob (F-statistic):               0.00\n",
       "Time:                        17:25:31   Log-Likelihood:                -39571.\n",
       "No. Observations:                7032   AIC:                         7.915e+04\n",
       "Df Residuals:                    7030   BIC:                         7.916e+04\n",
       "Df Model:                           1                                         \n",
       "Covariance Type:            nonrobust                                         \n",
       "=========================================================================================\n",
       "                            coef    std err          t      P>|t|      [0.025      0.975]\n",
       "-----------------------------------------------------------------------------------------\n",
       "Intercept                -0.9259      1.139     -0.813      0.416      -3.158       1.307\n",
       "monthlycharges:tenure     1.0005      0.000   2825.026      0.000       1.000       1.001\n",
       "==============================================================================\n",
       "Omnibus:                      536.457   Durbin-Watson:                   2.055\n",
       "Prob(Omnibus):                  0.000   Jarque-Bera (JB):             3044.087\n",
       "Skew:                          -0.034   Prob(JB):                         0.00\n",
       "Kurtosis:                       6.223   Cond. No.                     4.57e+03\n",
       "==============================================================================\n",
       "\n",
       "\n",
       "\"\"\""
      ]
     },
     "execution_count": 10,
     "metadata": {},
     "output_type": "execute_result"
    }
   ],
   "source": [
    "lm = smf.ols(\"totalcharges ~ monthlycharges:tenure\", churn).fit()\n",
    "summary = lm.summary()\n",
    "summary.extra_txt = ''\n",
    "summary"
   ]
  },
  {
   "cell_type": "code",
   "execution_count": 11,
   "metadata": {
    "slideshow": {
     "slide_type": "slide"
    }
   },
   "outputs": [
    {
     "data": {
      "image/png": "[encoded data removed]",
      "text/plain": [
       "<Figure size 720x432 with 1 Axes>"
      ]
     },
     "metadata": {
      "needs_background": "light"
     },
     "output_type": "display_data"
    }
   ],
   "source": [
    "churn_wona = churn.assign(tenmon = churn.monthlycharges * churn.tenure).dropna()\n",
    "churn_wona.plot(\"tenmon\", \"totalcharges\", kind = \"scatter\", figsize = (10,6))\n",
    "plt.plot(churn_wona.tenmon, lm.fittedvalues, color = 'orange')\n",
    "plt.show()\n",
    "del(churn_wona)"
   ]
  },
  {
   "cell_type": "code",
   "execution_count": 12,
   "metadata": {},
   "outputs": [],
   "source": [
    "churn.fillna(0, inplace = True)\n",
    "churn.to_csv('data/cleaned.csv', index = False)"
   ]
  },
  {
   "cell_type": "markdown",
   "metadata": {
    "slideshow": {
     "slide_type": "slide"
    }
   },
   "source": [
    "# Code review\n",
    "\n",
    "<img src=\"drawio/provider.png\">"
   ]
  },
  {
   "cell_type": "markdown",
   "metadata": {
    "slideshow": {
     "slide_type": "slide"
    }
   },
   "source": [
    "## Agent\n",
    "- part of the domain piece of the architecture\n",
    "- serves as a router for other modules"
   ]
  },
  {
   "cell_type": "code",
   "execution_count": 13,
   "metadata": {
    "slideshow": {
     "slide_type": "skip"
    }
   },
   "outputs": [],
   "source": [
    "from abc import ABC,abstractmethod\n",
    "from typing import List\n",
    "from src.domain import Agent, Environment\n",
    "from src.provider import DataProvider\n",
    "from src.oracle import Oracle\n",
    "from src.policy import Policy"
   ]
  },
  {
   "cell_type": "code",
   "execution_count": 14,
   "metadata": {},
   "outputs": [],
   "source": [
    "# Agent is wrapper around DataProvider, Oracle and Policy\n",
    "class Agent(ABC):\n",
    "    #    \n",
    "    def __init__(self, provider: DataProvider, oracle: Oracle, policy: Policy):\n",
    "        super().__init__()\n",
    "        self.provider = provider\n",
    "        self.oracle = oracle\n",
    "        self.policy = policy\n",
    "    #\n",
    "    def act(self, X: pd.DataFrame, time: int) -> int:\n",
    "        pred = self.oracle.predict(X)\n",
    "        return(self.policy.decide(pred, time))\n",
    "    #\n",
    "    def save_iter(self, context: pd.DataFrame, action:int, reward: int) -> None:\n",
    "        self.provider.collect(context, action, reward)\n",
    "    #\n",
    "    def update(self) -> None:\n",
    "        history = self.provider.provide()\n",
    "        self.oracle.fit(history)\n",
    "    #\n",
    "    def replay(self) -> None:\n",
    "        history = self.provider.provide(self.provider.size())\n",
    "        self.oracle.fit(history)"
   ]
  },
  {
   "cell_type": "markdown",
   "metadata": {
    "slideshow": {
     "slide_type": "slide"
    }
   },
   "source": [
    "## Learn\n",
    "- part of the domain piece of the architecture\n",
    "- defines the iterative process "
   ]
  },
  {
   "cell_type": "code",
   "execution_count": 15,
   "metadata": {},
   "outputs": [],
   "source": [
    "# Learn function handles the iterative learning of the Agent using the Environment\n",
    "def learn(agent: Agent, env: Environment, iters: int, update_freq: int, replay_freq : int = None) -> None:\n",
    "    replay = True\n",
    "    if replay_freq is None:\n",
    "        replay = False\n",
    "    #\n",
    "    for i in range(iters):\n",
    "        if i > 0:\n",
    "            if replay and (i % replay_freq == 0):\n",
    "                agent.replay()\n",
    "            elif i % update_freq == 0:\n",
    "                agent.update()\n",
    "        cx = env.get_context()\n",
    "        act = agent.act(cx, i)\n",
    "        rew = env.evaluate(act)\n",
    "        agent.save_iter(cx, act, rew)\n",
    "    return(agent)"
   ]
  },
  {
   "cell_type": "markdown",
   "metadata": {
    "slideshow": {
     "slide_type": "slide"
    }
   },
   "source": [
    "## Oracle\n",
    "- wrapper for set of (ML) models"
   ]
  },
  {
   "cell_type": "code",
   "execution_count": 16,
   "metadata": {},
   "outputs": [],
   "source": [
    "# Oracle is a wrapper around set of models used to predict reward based on context\n",
    "class Oracle(ABC):\n",
    "    #\n",
    "    def __init__(self, actions: List[int], min_reward: int):\n",
    "        self.minrew = min_reward\n",
    "        self.actions = actions\n",
    "        self.oracles = {a : LinearRegression() for a in actions}\n",
    "    #\n",
    "    def fit(self, X: pd.DataFrame) -> None:\n",
    "        for i in self.actions:\n",
    "            self.__fit_oracle__(i, X.query(\"action == @i\"))\n",
    "    #\n",
    "    def predict(self, X: pd.DataFrame) -> pd.Series:\n",
    "        out = {\n",
    "            i: self.__predict_oracle__(i, X)\n",
    "            for i in self.actions\n",
    "        }\n",
    "        return(pd.Series(out))\n",
    "    #\n",
    "    @abstractmethod\n",
    "    def __fit_oracle__(self, oracle: int, X: pd.DataFrame):\n",
    "        pass\n",
    "    #\n",
    "    @abstractmethod\n",
    "    def __predict_oracle__(self, oracle:int, X: pd.DataFrame):\n",
    "        pass"
   ]
  },
  {
   "cell_type": "markdown",
   "metadata": {
    "slideshow": {
     "slide_type": "slide"
    }
   },
   "source": [
    "## Policy"
   ]
  },
  {
   "cell_type": "code",
   "execution_count": 17,
   "metadata": {},
   "outputs": [],
   "source": [
    "# Policy defines the tactic used to handle the exploration-exploitation tradeoff\n",
    "class Policy(ABC):\n",
    "    #\n",
    "    @abstractmethod\n",
    "    def decide(self, rewards: pd.Series, time: int) -> int:\n",
    "        pass"
   ]
  },
  {
   "cell_type": "markdown",
   "metadata": {
    "slideshow": {
     "slide_type": "slide"
    }
   },
   "source": [
    "## Provider"
   ]
  },
  {
   "cell_type": "code",
   "execution_count": 18,
   "metadata": {},
   "outputs": [],
   "source": [
    "class DataProvider(ABC):\n",
    "    #\n",
    "    def __init__(self, batchsize: int):\n",
    "        self.contexts = []\n",
    "        self.actions = []\n",
    "        self.rewards = []\n",
    "        self.defsize = batchsize\n",
    "    #\n",
    "    def size(self) -> int:\n",
    "        return(len(self.contexts))\n",
    "    #\n",
    "    def collect(self, context: pd.DataFrame, action: int, reward: float) -> None:\n",
    "        self.contexts.append(context)\n",
    "        self.actions.append(action)\n",
    "        self.rewards.append(reward)\n",
    "    #\n",
    "    @abstractmethod\n",
    "    def provide(self, size: int) -> pd.DataFrame:\n",
    "        pass"
   ]
  },
  {
   "cell_type": "markdown",
   "metadata": {
    "slideshow": {
     "slide_type": "slide"
    }
   },
   "source": [
    "## Implementations\n",
    "Provider\n",
    "- Batch\n",
    "- Sample\n",
    "\n",
    "Oracle\n",
    "- LinReg\n",
    "- OnReg\n",
    "- RegTree\n",
    "- Neural\n",
    "\n",
    "Policy\n",
    "- AdaGreed\n",
    "- EpsGreed"
   ]
  },
  {
   "cell_type": "markdown",
   "metadata": {
    "slideshow": {
     "slide_type": "slide"
    }
   },
   "source": [
    "## Reward specification"
   ]
  },
  {
   "cell_type": "code",
   "execution_count": 19,
   "metadata": {
    "slideshow": {
     "slide_type": "skip"
    }
   },
   "outputs": [],
   "source": [
    "rewards = pd.DataFrame({\n",
    "    \"act\":  [0,    0,    1,    1],\n",
    "    \"pred\": [0,    1,    0,    1],\n",
    "    \"val\":  [1, -1.5,   -2,  0.5]\n",
    "}).pivot_table(\"val\",\"pred\",\"act\")\n",
    "\n",
    "rewards[\"mean\"] = rewards.mean(axis = 1)"
   ]
  },
  {
   "cell_type": "code",
   "execution_count": 20,
   "metadata": {},
   "outputs": [
    {
     "data": {
      "text/html": [
       "<div>\n",
       "<style scoped>\n",
       "    .dataframe tbody tr th:only-of-type {\n",
       "        vertical-align: middle;\n",
       "    }\n",
       "\n",
       "    .dataframe tbody tr th {\n",
       "        vertical-align: top;\n",
       "    }\n",
       "\n",
       "    .dataframe thead th {\n",
       "        text-align: right;\n",
       "    }\n",
       "</style>\n",
       "<table border=\"1\" class=\"dataframe\">\n",
       "  <thead>\n",
       "    <tr style=\"text-align: right;\">\n",
       "      <th>act</th>\n",
       "      <th>0</th>\n",
       "      <th>1</th>\n",
       "      <th>mean</th>\n",
       "    </tr>\n",
       "    <tr>\n",
       "      <th>pred</th>\n",
       "      <th></th>\n",
       "      <th></th>\n",
       "      <th></th>\n",
       "    </tr>\n",
       "  </thead>\n",
       "  <tbody>\n",
       "    <tr>\n",
       "      <th>0</th>\n",
       "      <td>1.0</td>\n",
       "      <td>-2.0</td>\n",
       "      <td>-0.5</td>\n",
       "    </tr>\n",
       "    <tr>\n",
       "      <th>1</th>\n",
       "      <td>-1.5</td>\n",
       "      <td>0.5</td>\n",
       "      <td>-0.5</td>\n",
       "    </tr>\n",
       "  </tbody>\n",
       "</table>\n",
       "</div>"
      ],
      "text/plain": [
       "act     0    1  mean\n",
       "pred                \n",
       "0     1.0 -2.0  -0.5\n",
       "1    -1.5  0.5  -0.5"
      ]
     },
     "execution_count": 20,
     "metadata": {},
     "output_type": "execute_result"
    }
   ],
   "source": [
    "rewards"
   ]
  }
 ],
 "metadata": {
  "celltoolbar": "Slideshow",
  "interpreter": {
   "hash": "4cd7ab41f5fca4b9b44701077e38c5ffd31fe66a6cab21e0214b68d958d0e462"
  },
  "kernelspec": {
   "display_name": "Python 3",
   "language": "python",
   "name": "python3"
  },
  "language_info": {
   "codemirror_mode": {
    "name": "ipython",
    "version": 3
   },
   "file_extension": ".py",
   "mimetype": "text/x-python",
   "name": "python",
   "nbconvert_exporter": "python",
   "pygments_lexer": "ipython3",
   "version": "3.7.10"
  }
 },
 "nbformat": 4,
 "nbformat_minor": 2
}
